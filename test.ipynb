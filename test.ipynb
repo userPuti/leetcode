{
 "cells": [
  {
   "cell_type": "code",
   "execution_count": 1,
   "metadata": {},
   "outputs": [
    {
     "name": "stdout",
     "output_type": "stream",
     "text": [
      "1 9\n"
     ]
    }
   ],
   "source": [
    "n, digit = divmod(19, 10)\n",
    "print(n, digit)\n"
   ]
  },
  {
   "cell_type": "code",
   "execution_count": 3,
   "metadata": {},
   "outputs": [
    {
     "name": "stdout",
     "output_type": "stream",
     "text": [
      "1\n",
      "9\n",
      "0\n",
      "1\n"
     ]
    },
    {
     "data": {
      "text/plain": [
       "82"
      ]
     },
     "execution_count": 3,
     "metadata": {},
     "output_type": "execute_result"
    }
   ],
   "source": [
    "def get_next(n):\n",
    "    total_sum = 0\n",
    "    while n > 0:\n",
    "        n, digit = divmod(n, 10)\n",
    "        total_sum += digit**2\n",
    "    return total_sum\n",
    "\n",
    "\n",
    "get_next(19)"
   ]
  },
  {
   "cell_type": "code",
   "execution_count": 7,
   "metadata": {},
   "outputs": [
    {
     "data": {
      "text/plain": [
       "False"
      ]
     },
     "execution_count": 7,
     "metadata": {},
     "output_type": "execute_result"
    }
   ],
   "source": [
    "def isHappy(n: int) -> bool:\n",
    "\n",
    "    def get_next(n):\n",
    "        total_num = 0\n",
    "        while n > 0:\n",
    "            n, digit = divmod(n, 10)\n",
    "            total_num += digit**2\n",
    "        return total_num\n",
    "\n",
    "    seen = set()\n",
    "\n",
    "    while n != 1 and n not in seen:\n",
    "        seen.add(n)\n",
    "        n = get_next(n)\n",
    "\n",
    "    return n == 1\n",
    "\n",
    "\n",
    "isHappy(2)"
   ]
  },
  {
   "cell_type": "code",
   "execution_count": 2,
   "metadata": {},
   "outputs": [
    {
     "name": "stdout",
     "output_type": "stream",
     "text": [
      "1\n",
      "2\n",
      "3\n",
      "1\n",
      "None\n"
     ]
    }
   ],
   "source": [
    "def containsDuplicate(nums) -> bool:\n",
    "    nums_dict = {}\n",
    "\n",
    "    for num in nums:\n",
    "        # if nums_dict.get(dict) is None:\n",
    "        #     nums_dict[num] = 1\n",
    "        # else:\n",
    "        #     return True\n",
    "        print(num)\n",
    "\n",
    "\n",
    "a = [1, 2, 3, 1]\n",
    "print(containsDuplicate(a))"
   ]
  },
  {
   "cell_type": "code",
   "execution_count": 5,
   "metadata": {},
   "outputs": [
    {
     "data": {
      "text/plain": [
       "True"
      ]
     },
     "execution_count": 5,
     "metadata": {},
     "output_type": "execute_result"
    }
   ],
   "source": [
    "def containsNearbyDuplicate(nums, k: int) -> bool:\n",
    "    sort_list = sorted(enumerate(nums, 0), key=lambda x: x[1])\n",
    "\n",
    "    for i in range(0, len(sort_list) - 1):\n",
    "        j = i + 1\n",
    "        if sort_list[i][1] == sort_list[j][1] and abs(sort_list[i][0] -\n",
    "                                                      sort_list[j][0]) <= k:\n",
    "            return True\n",
    "\n",
    "    return False\n",
    "\n",
    "\n",
    "a_list = [1, 0, 1, 1]\n",
    "containsNearbyDuplicate(a_list, 1)\n"
   ]
  },
  {
   "cell_type": "code",
   "execution_count": 13,
   "metadata": {},
   "outputs": [
    {
     "data": {
      "text/plain": [
       "['0->2', '4->5', '7']"
      ]
     },
     "execution_count": 13,
     "metadata": {},
     "output_type": "execute_result"
    }
   ],
   "source": [
    "from typing import List\n",
    "\n",
    "\n",
    "def summaryRanges(nums: List[int]) -> List[str]:\n",
    "    i, j = 0, 0\n",
    "    ans = list()\n",
    "    len_nums = len(nums)\n",
    "    while i < len_nums:\n",
    "        j = i + 1\n",
    "        count = 1\n",
    "\n",
    "        while j < len_nums:\n",
    "            if nums[j] == nums[i] + count:\n",
    "                j += 1\n",
    "                count += 1\n",
    "            else:\n",
    "                break\n",
    "\n",
    "        if j != i + 1:\n",
    "            ans.append(\"{0}->{1}\".format(nums[i], nums[j - 1]))\n",
    "        else:\n",
    "            ans.append(\"{0}\".format(nums[i]))\n",
    "\n",
    "        i = j\n",
    "\n",
    "    return ans\n",
    "\n",
    "\n",
    "summaryRanges([0, 1, 2, 4, 5, 7])\n"
   ]
  },
  {
   "cell_type": "code",
   "execution_count": 3,
   "metadata": {},
   "outputs": [
    {
     "data": {
      "text/plain": [
       "['dog', 'cat', 'cat', 'dog']"
      ]
     },
     "execution_count": 3,
     "metadata": {},
     "output_type": "execute_result"
    }
   ],
   "source": [
    "\"dog cat cat dog\".split(\" \")"
   ]
  },
  {
   "cell_type": "code",
   "execution_count": 15,
   "metadata": {},
   "outputs": [
    {
     "name": "stdout",
     "output_type": "stream",
     "text": [
      "False\n"
     ]
    }
   ],
   "source": [
    "def wordPattern(pattern: str, s: str) -> bool:\n",
    "    p_dict = {}\n",
    "    s_dict = {}\n",
    "    s_list = s.split()\n",
    "\n",
    "    for i in range(len(pattern)):\n",
    "        if p_dict.get(pattern[i]) is None and s_dict.get(s_list[i]) is None:\n",
    "            p_dict[pattern[i]] = s_list[i]\n",
    "            s_dict[s_list[i]] = pattern[i]\n",
    "\n",
    "        elif p_dict.get(pattern[i]) != s_list[i] or s_dict.get(\n",
    "                s_list[i]) != pattern[i]:\n",
    "            return False\n",
    "\n",
    "    return True\n",
    "\n",
    "\n",
    "print(wordPattern('abc', 'dog cat dog'))\n"
   ]
  },
  {
   "cell_type": "code",
   "execution_count": 2,
   "metadata": {},
   "outputs": [
    {
     "name": "stdout",
     "output_type": "stream",
     "text": [
      "[1, 2, 3]\n",
      "[2, 3]\n",
      "[3]\n",
      "[]\n",
      "[2]\n",
      "[]\n",
      "[1, 3]\n",
      "[3]\n",
      "[]\n",
      "[1]\n",
      "[]\n",
      "[1, 2]\n",
      "[2]\n",
      "[]\n",
      "[1]\n",
      "[]\n",
      "[[1, 2, 3], [1, 3, 2], [2, 1, 3], [2, 3, 1], [3, 1, 2], [3, 2, 1]]\n"
     ]
    }
   ],
   "source": [
    "from typing import List\n",
    "\n",
    "res = []\n",
    "\n",
    "\n",
    "def permute(nums: List[int]) -> List[List[int]]:\n",
    "    backtrack(nums, [])\n",
    "    return res\n",
    "\n",
    "\n",
    "def backtrack(nums, tmp: List[int]):\n",
    "    print(nums)\n",
    "    if not nums:\n",
    "        res.append(tmp[:])\n",
    "        return\n",
    "\n",
    "    for i in range(len(nums)):\n",
    "        # print(nums[:i] + nums[i + 1:])\n",
    "        tmp.append(nums[i])\n",
    "        backtrack(nums[:i] + nums[i + 1:], tmp)\n",
    "        tmp.remove(nums[i])\n",
    "\n",
    "\n",
    "print(permute([1, 2, 3]))\n"
   ]
  },
  {
   "cell_type": "code",
   "execution_count": 5,
   "metadata": {},
   "outputs": [
    {
     "name": "stdout",
     "output_type": "stream",
     "text": [
      "1926774751432\n",
      "1926775211784\n",
      "1926774751432\n",
      "1926775211784\n"
     ]
    }
   ],
   "source": [
    "a = []\n",
    "print(id(a))\n",
    "b = []\n",
    "print(id(b))\n",
    "a.append(b)\n",
    "print(id(a))\n",
    "print(id(a[0]))\n"
   ]
  },
  {
   "cell_type": "code",
   "execution_count": 3,
   "metadata": {},
   "outputs": [
    {
     "data": {
      "text/plain": [
       "[[], [1], [1, 2], [1, 2, 3], [1, 3], [2], [2, 3], [3]]"
      ]
     },
     "execution_count": 3,
     "metadata": {},
     "output_type": "execute_result"
    }
   ],
   "source": [
    "from typing import List\n",
    "\n",
    "\n",
    "def subsets(nums: List[int]) -> List[List[int]]:\n",
    "    if not nums:\n",
    "        return []\n",
    "\n",
    "    res = []\n",
    "    n = len(nums)\n",
    "\n",
    "    def helper(idx, temp_list):\n",
    "        res.append(temp_list)\n",
    "        for i in range(idx, n):\n",
    "            helper(i + 1, temp_list + [nums[i]])\n",
    "\n",
    "    helper(0, [])\n",
    "    return res\n",
    "\n",
    "\n",
    "subsets([1, 2, 3])\n"
   ]
  },
  {
   "cell_type": "code",
   "execution_count": 11,
   "metadata": {},
   "outputs": [
    {
     "name": "stdout",
     "output_type": "stream",
     "text": [
      "10 10\n",
      "9 9\n",
      "8 8\n",
      "7 7\n",
      "6 6\n",
      "5 5\n",
      "4 4\n",
      "3 3\n",
      "2 2\n",
      "1 1\n",
      "0 0\n"
     ]
    }
   ],
   "source": [
    "for i, j in zip(range(10, -1, -1), range(10, -1, -1)):\n",
    "    print(i, j)\n"
   ]
  },
  {
   "cell_type": "code",
   "execution_count": 45,
   "metadata": {
    "tags": [
     "parameters"
    ]
   },
   "outputs": [
    {
     "data": {
      "text/plain": [
       "[['.Q..', '...Q', 'Q...', '..Q.'], ['..Q.', 'Q...', '...Q', '.Q..']]"
      ]
     },
     "execution_count": 45,
     "metadata": {},
     "output_type": "execute_result"
    }
   ],
   "source": [
    "def solveNQueens(n: int) -> List[List[str]]:\n",
    "    board = [['.'] * n for _ in range(n)]\n",
    "    res = []\n",
    "\n",
    "    def isValid(x: int, y: int) -> bool:\n",
    "        for i in range(x):\n",
    "            if board[i][y] == 'Q':\n",
    "                return False\n",
    "\n",
    "        for i, j in zip(range(x - 1, -1, -1), range(y - 1, -1, -1)):\n",
    "            if board[i][j] == 'Q':\n",
    "                return False\n",
    "\n",
    "        for i, j in zip(range(x - 1, -1, -1), range(y + 1, n, 1)):\n",
    "            if board[i][j] == 'Q':\n",
    "                return False\n",
    "\n",
    "        return True\n",
    "\n",
    "    def backtrack(row: int):\n",
    "        if row == n:\n",
    "            temp = [''.join(i) for i in board]\n",
    "            res.append(temp)\n",
    "            return\n",
    "\n",
    "        for col in range(n):\n",
    "            if not isValid(row, col):\n",
    "                continue\n",
    "\n",
    "            board[row][col] = 'Q'\n",
    "            backtrack(row + 1)\n",
    "            board[row][col] = '.'\n",
    "\n",
    "    backtrack(0)\n",
    "    return res\n",
    "\n",
    "\n",
    "solveNQueens(4)\n"
   ]
  },
  {
   "cell_type": "code",
   "execution_count": 4,
   "metadata": {},
   "outputs": [
    {
     "name": "stdout",
     "output_type": "stream",
     "text": [
      "[['.', '.', '.', '.'], ['.', '.', '.', '.'], ['.', '.', '.', '.'], ['.', '.', '.', '.']]\n",
      "['.', '.', '.', '.']\n",
      "....\n",
      "['.', '.', '.', '.']\n",
      "....\n",
      "['.', '.', '.', '.']\n",
      "....\n",
      "['.', '.', '.', '.']\n",
      "....\n",
      "abc\n"
     ]
    }
   ],
   "source": [
    "b = [['.'] * 4 for _ in range(4)]\n",
    "print(b)\n",
    "for i in b:\n",
    "    print(i)\n",
    "    c = ''.join(i)\n",
    "    print(c)\n",
    "[''.join(i) for i in b]\n",
    "\n",
    "\n",
    "arr = ['a','b','c']\n",
    "print(''.join(arr))\n"
   ]
  },
  {
   "cell_type": "code",
   "execution_count": 3,
   "metadata": {},
   "outputs": [
    {
     "data": {
      "text/plain": [
       "[[1, 1, 2, 2],\n",
       " [1, 2, 1, 2],\n",
       " [1, 2, 2, 1],\n",
       " [2, 1, 1, 2],\n",
       " [2, 1, 2, 1],\n",
       " [2, 2, 1, 1]]"
      ]
     },
     "execution_count": 3,
     "metadata": {},
     "output_type": "execute_result"
    }
   ],
   "source": [
    "from typing import List\n",
    "\n",
    "class Solution:\n",
    "\n",
    "    def permuteUnique(self, nums: List[int]) -> List[List[int]]:\n",
    "        res = []\n",
    "        track = []\n",
    "        n = len(nums)\n",
    "        used = [False] * n\n",
    "        nums.sort()\n",
    "\n",
    "        def backtrack():\n",
    "            if len(track) == n:\n",
    "                res.append(list(track))\n",
    "                return\n",
    "\n",
    "            for i in range(n):\n",
    "                if used[i]:\n",
    "                    continue\n",
    "\n",
    "                if i > 0 and nums[i] == nums[i - 1] and not used[i - 1]:\n",
    "                    continue\n",
    "\n",
    "                track.append(nums[i])\n",
    "                used[i] = True\n",
    "                backtrack()\n",
    "                used[i] = False\n",
    "                track.pop()\n",
    "\n",
    "        backtrack()\n",
    "        return res\n",
    "\n",
    "sol = Solution()\n",
    "sol.permuteUnique([2,2,1,1])"
   ]
  }
 ],
 "metadata": {
  "kernelspec": {
   "display_name": "Python 3.7.9 64-bit",
   "language": "python",
   "name": "python3"
  },
  "language_info": {
   "codemirror_mode": {
    "name": "ipython",
    "version": 3
   },
   "file_extension": ".py",
   "mimetype": "text/x-python",
   "name": "python",
   "nbconvert_exporter": "python",
   "pygments_lexer": "ipython3",
   "version": "3.7.9"
  },
  "orig_nbformat": 4,
  "vscode": {
   "interpreter": {
    "hash": "27012241a0075490d490a73e494f80ffce2c4b4ccc6ffa7fe463bccb633303a1"
   }
  }
 },
 "nbformat": 4,
 "nbformat_minor": 2
}
